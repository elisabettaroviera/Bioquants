{
 "cells": [
  {
   "cell_type": "markdown",
   "id": "d1bb7db2",
   "metadata": {},
   "source": [
    "# Genome Assembly Assignment\n",
    "\n",
    "In this notebook, the functions required to complete **Assignment #6 (Python genome assembly)** are implemented.\n",
    "\n",
    "**Author:** Elisabetta Roviera (s328422)  \n",
    "**Course:** Bioquants\n",
    "**Date:** June 9, 2025  \n",
    "**Repository:** https://github.com/elisabettaroviera/Bioquants"
   ]
  },
  {
   "cell_type": "markdown",
   "id": "1de57c8f",
   "metadata": {},
   "source": [
    "## Problem 1: Read and Parse Input Data\n",
    "\n",
    "Write a function `readDataFromFile(fileName)` that reads a file and returns a dictionary mapping read names to sequences."
   ]
  },
  {
   "cell_type": "code",
   "execution_count": 1,
   "id": "c5b6f5f7",
   "metadata": {},
   "outputs": [],
   "source": [
    "def readDataFromFile(fileName):\n",
    "    \"\"\"\n",
    "    Reads a file where each line has 'name:sequence' and returns a dict mapping names to sequences.\n",
    "    \"\"\"\n",
    "    reads = {}\n",
    "    with open(fileName, 'r') as f:\n",
    "        for line in f:\n",
    "            name, seq = line.strip().split(':')\n",
    "            reads[name] = seq\n",
    "    return reads"
   ]
  },
  {
   "cell_type": "markdown",
   "id": "c8b2dbcc",
   "metadata": {},
   "source": [
    "## Problem 2: Mean Read Length\n",
    "\n",
    "Write a function `meanLength(fileName)` that returns the mean sequence length as a float."
   ]
  },
  {
   "cell_type": "code",
   "execution_count": 2,
   "id": "5e6cdfb3",
   "metadata": {},
   "outputs": [],
   "source": [
    "def meanLength(fileName):\n",
    "    \"\"\"\n",
    "    Calculates the mean length of reads in fileName.\n",
    "    \"\"\"\n",
    "    reads = readDataFromFile(fileName)\n",
    "    if not reads:\n",
    "        return 0.0\n",
    "    total_length = sum(len(seq) for seq in reads.values())\n",
    "    return total_length / len(reads)"
   ]
  },
  {
   "cell_type": "markdown",
   "id": "0b2deb15",
   "metadata": {},
   "source": [
    "## Problem 3: Compute Overlap Between Two Reads\n",
    "\n",
    "Write a function `getOverlap(left, right)` that returns the overlapping substring between the end of `left` and the start of `right`."
   ]
  },
  {
   "cell_type": "code",
   "execution_count": 3,
   "id": "16ad7a3c",
   "metadata": {},
   "outputs": [],
   "source": [
    "def getOverlap(left, right):\n",
    "    \"\"\"\n",
    "    Returns the longest overlap between the 3' end of 'left' and the 5' start of 'right'.\n",
    "    \"\"\"\n",
    "    max_overlap = ''\n",
    "    max_len = min(len(left), len(right))\n",
    "    for i in range(max_len, 0, -1):\n",
    "        if left[-i:] == right[:i]:\n",
    "            return left[-i:]\n",
    "    return ''"
   ]
  },
  {
   "cell_type": "markdown",
   "id": "5e2dc49d",
   "metadata": {},
   "source": [
    "## Problem 4: Compute All Pairwise Overlaps\n",
    "\n",
    "Write a function `getAllOverlaps(reads)` that returns a nested dict of overlap lengths for each ordered read pair."
   ]
  },
  {
   "cell_type": "code",
   "execution_count": 4,
   "id": "54ed2995",
   "metadata": {},
   "outputs": [],
   "source": [
    "def getAllOverlaps(reads):\n",
    "    \"\"\"\n",
    "    Given a dict of reads, returns a dict of dicts where d[a][b] is \n",
    "    the length of the overlap when a is left and b is right.\n",
    "    \"\"\"\n",
    "    overlaps = {}\n",
    "    for a, seq_a in reads.items():\n",
    "        overlaps[a] = {}\n",
    "        for b, seq_b in reads.items():\n",
    "            if a == b:\n",
    "                continue\n",
    "            overlap_seq = getOverlap(seq_a, seq_b)\n",
    "            overlaps[a][b] = len(overlap_seq)\n",
    "    return overlaps"
   ]
  },
  {
   "cell_type": "markdown",
   "id": "7b13fc5d",
   "metadata": {},
   "source": [
    "## Problem 5: Pretty-Print Overlap Matrix\n",
    "\n",
    "Write a function `prettyPrint(overlaps)` that prints an aligned matrix of overlaps with dashes on the diagonal."
   ]
  },
  {
   "cell_type": "code",
   "execution_count": 5,
   "id": "eadc3d14",
   "metadata": {},
   "outputs": [],
   "source": [
    "def prettyPrint(overlaps):\n",
    "    \"\"\"\n",
    "    Prints a matrix of overlap lengths with '-' on the diagonal.\n",
    "    \"\"\"\n",
    "    names = sorted(overlaps.keys(), key=lambda x: int(x))\n",
    "    # Header\n",
    "    print('   ' + ' '.join(f'{name:>3}' for name in names))\n",
    "    for i in names:\n",
    "        row = [f'{i:>3}']\n",
    "        for j in names:\n",
    "            if i == j:\n",
    "                cell = ' - '\n",
    "            else:\n",
    "                cell = f'{overlaps[i].get(j, 0):>3}'\n",
    "            row.append(cell)\n",
    "        print(' '.join(row))"
   ]
  },
  {
   "cell_type": "markdown",
   "id": "6249280b",
   "metadata": {},
   "source": [
    "## Problem 6: Find the First Read\n",
    "\n",
    "Write a function `findFirstRead(overlaps)` to identify the read with no significant overlaps (>2) as the first (leftmost)."
   ]
  },
  {
   "cell_type": "code",
   "execution_count": 6,
   "id": "394abafa",
   "metadata": {},
   "outputs": [],
   "source": [
    "def findFirstRead(overlaps):\n",
    "    \"\"\"\n",
    "    Returns the name of the read that has no overlaps >2 when it is on the right side.\n",
    "    \"\"\"\n",
    "    reads = overlaps.keys()\n",
    "    for candidate in reads:\n",
    "        # Check if no other read has overlap >2 to this candidate\n",
    "        if all(overlaps[a].get(candidate, 0) <= 2 for a in reads if a != candidate):\n",
    "            return candidate\n",
    "    return None"
   ]
  },
  {
   "cell_type": "markdown",
   "id": "cbcc6b7d",
   "metadata": {},
   "source": [
    "## Problem 7: Determine Read Order\n",
    "\n",
    "1. Write `findKeyForLargestValue(d)` to find the key with the max value in `d`.\n",
    "2. Write `findOrder(name, overlaps)` that returns the ordered list of reads."
   ]
  },
  {
   "cell_type": "code",
   "execution_count": 7,
   "id": "f733bd45",
   "metadata": {},
   "outputs": [],
   "source": [
    "def findKeyForLargestValue(d):\n",
    "    \"\"\"\n",
    "    Returns the key corresponding to the largest value in dict d.\n",
    "    \"\"\"\n",
    "    return max(d, key=d.get)\n",
    "\n",
    "def findOrder(name, overlaps):\n",
    "    \"\"\"\n",
    "    Given the first read name and overlaps dict, returns the list of reads in order.\n",
    "    \"\"\"\n",
    "    order = [name]\n",
    "    current = name\n",
    "    while True:\n",
    "        next_overlaps = overlaps[current]\n",
    "        # Filter only significant overlaps >2\n",
    "        significant = {r: o for r, o in next_overlaps.items() if o > 2}\n",
    "        if not significant:\n",
    "            break\n",
    "        next_read = findKeyForLargestValue(significant)\n",
    "        order.append(next_read)\n",
    "        current = next_read\n",
    "    return order"
   ]
  },
  {
   "cell_type": "markdown",
   "id": "1aeb8e07",
   "metadata": {},
   "source": [
    "## Problem 8: Assemble Genome\n",
    "\n",
    "Write `assembleGenome(readOrder, reads, overlaps)` to reconstruct the full genome string."
   ]
  },
  {
   "cell_type": "code",
   "execution_count": 8,
   "id": "850d1efa",
   "metadata": {},
   "outputs": [],
   "source": [
    "def assembleGenome(readOrder, reads, overlaps):\n",
    "    \"\"\"\n",
    "    Given the order of reads, the reads dict, and overlaps dict,\n",
    "    returns the assembled genome sequence.\n",
    "    \"\"\"\n",
    "    genome = reads[readOrder[0]]\n",
    "    for prev, curr in zip(readOrder, readOrder[1:]):\n",
    "        o_len = overlaps[prev][curr]\n",
    "        genome += reads[curr][o_len:]\n",
    "    return genome"
   ]
  },
  {
   "cell_type": "markdown",
   "id": "7516c18e",
   "metadata": {},
   "source": [
    "## Example Usage\n",
    "\n",
    "Load data, compute overlaps, determine order, and assemble genome."
   ]
  },
  {
   "cell_type": "code",
   "execution_count": 9,
   "id": "6393b76f",
   "metadata": {},
   "outputs": [
    {
     "name": "stdout",
     "output_type": "stream",
     "text": [
      "Mean length: 55.333333333333336\n",
      "     1   2   3   4   5   6\n",
      "  1  -    1   0   0   1  29\n",
      "  2  13  -    1   0  21   0\n",
      "  3   0   0  -    1   0   1\n",
      "  4   1  17   1  -    2   0\n",
      "  5  39   1   0   0  -   14\n",
      "  6   0   0  43   1   0  - \n",
      "Read order: ['4', '2', '5', '1', '6', '3']\n",
      "Assembled genome:\n",
      "TGCGAGGGAAGTGAAGTATTTGACCCTTTACCCGGAAGAGCGGGACGCTGCCCTGCGCGATTCCAGGCTCCCCACGGGGTACCCATAACTTGACAGTAGATCTCGTCCAGACCCCTAGCTGGTACGTCTTCAGTAGAAAATTGTTTTTTTCTTCCAAGAGGTCGGAGTCGTGAACACATCAGT\n"
     ]
    }
   ],
   "source": [
    "# Example (uncomment and adjust filename if you have the file in the same directory)\n",
    "filename = 'genome-assembly.txt'\n",
    "reads = readDataFromFile(filename)\n",
    "print('Mean length:', meanLength(filename))\n",
    "overlaps = getAllOverlaps(reads)\n",
    "prettyPrint(overlaps)\n",
    "first_read = findFirstRead(overlaps)\n",
    "order = findOrder(first_read, overlaps)\n",
    "print('Read order:', order)\n",
    "genome_sequence = assembleGenome(order, reads, overlaps)\n",
    "print('Assembled genome:')\n",
    "print(genome_sequence)"
   ]
  }
 ],
 "metadata": {
  "kernelspec": {
   "display_name": "Python 3",
   "language": "python",
   "name": "python3"
  },
  "language_info": {
   "codemirror_mode": {
    "name": "ipython",
    "version": 3
   },
   "file_extension": ".py",
   "mimetype": "text/x-python",
   "name": "python",
   "nbconvert_exporter": "python",
   "pygments_lexer": "ipython3",
   "version": "3.13.0"
  }
 },
 "nbformat": 4,
 "nbformat_minor": 5
}
